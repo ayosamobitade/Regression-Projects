{
 "cells": [
  {
   "cell_type": "markdown",
   "metadata": {},
   "source": [
    "## Car Sales Regression implemention in R"
   ]
  },
  {
   "cell_type": "code",
   "execution_count": 1,
   "metadata": {},
   "outputs": [
    {
     "data": {
      "text/html": [
       "<table>\n",
       "<thead><tr><th scope=col>Brand</th><th scope=col>Price</th><th scope=col>Body</th><th scope=col>Mileage</th><th scope=col>EngineV</th><th scope=col>Engine.Type</th><th scope=col>Registration</th><th scope=col>Year</th><th scope=col>Model</th></tr></thead>\n",
       "<tbody>\n",
       "\t<tr><td>BMW          </td><td> 4200        </td><td>sedan        </td><td>277          </td><td>2.0          </td><td>Petrol       </td><td>yes          </td><td>1991         </td><td>320          </td></tr>\n",
       "\t<tr><td>Mercedes-Benz</td><td> 7900        </td><td>van          </td><td>427          </td><td>2.9          </td><td>Diesel       </td><td>yes          </td><td>1999         </td><td>Sprinter 212 </td></tr>\n",
       "\t<tr><td>Mercedes-Benz</td><td>13300        </td><td>sedan        </td><td>358          </td><td>5.0          </td><td>Gas          </td><td>yes          </td><td>2003         </td><td>S 500        </td></tr>\n",
       "\t<tr><td>Audi         </td><td>23000        </td><td>crossover    </td><td>240          </td><td>4.2          </td><td>Petrol       </td><td>yes          </td><td>2007         </td><td>Q7           </td></tr>\n",
       "\t<tr><td>Toyota       </td><td>18300        </td><td>crossover    </td><td>120          </td><td>2.0          </td><td>Petrol       </td><td>yes          </td><td>2011         </td><td>Rav 4        </td></tr>\n",
       "</tbody>\n",
       "</table>\n"
      ],
      "text/latex": [
       "\\begin{tabular}{r|lllllllll}\n",
       " Brand & Price & Body & Mileage & EngineV & Engine.Type & Registration & Year & Model\\\\\n",
       "\\hline\n",
       "\t BMW           &  4200         & sedan         & 277           & 2.0           & Petrol        & yes           & 1991          & 320          \\\\\n",
       "\t Mercedes-Benz &  7900         & van           & 427           & 2.9           & Diesel        & yes           & 1999          & Sprinter 212 \\\\\n",
       "\t Mercedes-Benz & 13300         & sedan         & 358           & 5.0           & Gas           & yes           & 2003          & S 500        \\\\\n",
       "\t Audi          & 23000         & crossover     & 240           & 4.2           & Petrol        & yes           & 2007          & Q7           \\\\\n",
       "\t Toyota        & 18300         & crossover     & 120           & 2.0           & Petrol        & yes           & 2011          & Rav 4        \\\\\n",
       "\\end{tabular}\n"
      ],
      "text/markdown": [
       "\n",
       "| Brand | Price | Body | Mileage | EngineV | Engine.Type | Registration | Year | Model |\n",
       "|---|---|---|---|---|---|---|---|---|\n",
       "| BMW           |  4200         | sedan         | 277           | 2.0           | Petrol        | yes           | 1991          | 320           |\n",
       "| Mercedes-Benz |  7900         | van           | 427           | 2.9           | Diesel        | yes           | 1999          | Sprinter 212  |\n",
       "| Mercedes-Benz | 13300         | sedan         | 358           | 5.0           | Gas           | yes           | 2003          | S 500         |\n",
       "| Audi          | 23000         | crossover     | 240           | 4.2           | Petrol        | yes           | 2007          | Q7            |\n",
       "| Toyota        | 18300         | crossover     | 120           | 2.0           | Petrol        | yes           | 2011          | Rav 4         |\n",
       "\n"
      ],
      "text/plain": [
       "  Brand         Price Body      Mileage EngineV Engine.Type Registration Year\n",
       "1 BMW            4200 sedan     277     2.0     Petrol      yes          1991\n",
       "2 Mercedes-Benz  7900 van       427     2.9     Diesel      yes          1999\n",
       "3 Mercedes-Benz 13300 sedan     358     5.0     Gas         yes          2003\n",
       "4 Audi          23000 crossover 240     4.2     Petrol      yes          2007\n",
       "5 Toyota        18300 crossover 120     2.0     Petrol      yes          2011\n",
       "  Model       \n",
       "1 320         \n",
       "2 Sprinter 212\n",
       "3 S 500       \n",
       "4 Q7          \n",
       "5 Rav 4       "
      ]
     },
     "metadata": {},
     "output_type": "display_data"
    }
   ],
   "source": [
    "dataset <- read.csv('car sales.csv')\n",
    "head(dataset, 5)"
   ]
  },
  {
   "cell_type": "code",
   "execution_count": 2,
   "metadata": {},
   "outputs": [
    {
     "data": {
      "text/plain": [
       "           Brand         Price               Body         Mileage     \n",
       " Audi         :457   Min.   :   600   crossover: 901   Min.   :  0.0  \n",
       " BMW          :694   1st Qu.:  6999   hatch    : 285   1st Qu.: 86.0  \n",
       " Mercedes-Benz:921   Median : 11500   other    : 433   Median :155.0  \n",
       " Mitsubishi   :327   Mean   : 19419   sedan    :1649   Mean   :161.2  \n",
       " Renault      :469   3rd Qu.: 21700   vagon    : 402   3rd Qu.:230.0  \n",
       " Toyota       :541   Max.   :300000   van      : 675   Max.   :980.0  \n",
       " Volkswagen   :936   NA's   :172                                      \n",
       "    EngineV       Engine.Type   Registration      Year          Model     \n",
       " Min.   : 0.600   Diesel:2019   no : 398     Min.   :1969   E-Class: 199  \n",
       " 1st Qu.: 1.800   Gas   : 613   yes:3947     1st Qu.:2003   A6     : 172  \n",
       " Median : 2.200   Other : 154                Median :2008   Vito   : 171  \n",
       " Mean   : 2.791   Petrol:1559                Mean   :2007   Kangoo : 146  \n",
       " 3rd Qu.: 3.000                              3rd Qu.:2012   Camry  : 134  \n",
       " Max.   :99.990                              Max.   :2016   Caddy  : 119  \n",
       " NA's   :150                                                (Other):3404  "
      ]
     },
     "metadata": {},
     "output_type": "display_data"
    }
   ],
   "source": [
    "summary(dataset)"
   ]
  },
  {
   "cell_type": "code",
   "execution_count": 3,
   "metadata": {},
   "outputs": [
    {
     "data": {
      "text/html": [
       "<ol class=list-inline>\n",
       "\t<li>'Brand'</li>\n",
       "\t<li>'Price'</li>\n",
       "\t<li>'Body'</li>\n",
       "\t<li>'Mileage'</li>\n",
       "\t<li>'EngineV'</li>\n",
       "\t<li>'Engine.Type'</li>\n",
       "\t<li>'Registration'</li>\n",
       "\t<li>'Year'</li>\n",
       "\t<li>'Model'</li>\n",
       "</ol>\n"
      ],
      "text/latex": [
       "\\begin{enumerate*}\n",
       "\\item 'Brand'\n",
       "\\item 'Price'\n",
       "\\item 'Body'\n",
       "\\item 'Mileage'\n",
       "\\item 'EngineV'\n",
       "\\item 'Engine.Type'\n",
       "\\item 'Registration'\n",
       "\\item 'Year'\n",
       "\\item 'Model'\n",
       "\\end{enumerate*}\n"
      ],
      "text/markdown": [
       "1. 'Brand'\n",
       "2. 'Price'\n",
       "3. 'Body'\n",
       "4. 'Mileage'\n",
       "5. 'EngineV'\n",
       "6. 'Engine.Type'\n",
       "7. 'Registration'\n",
       "8. 'Year'\n",
       "9. 'Model'\n",
       "\n",
       "\n"
      ],
      "text/plain": [
       "[1] \"Brand\"        \"Price\"        \"Body\"         \"Mileage\"      \"EngineV\"     \n",
       "[6] \"Engine.Type\"  \"Registration\" \"Year\"         \"Model\"       "
      ]
     },
     "metadata": {},
     "output_type": "display_data"
    }
   ],
   "source": [
    "# listing out the dataset columns\n",
    "\n",
    "names(dataset)"
   ]
  },
  {
   "cell_type": "code",
   "execution_count": 4,
   "metadata": {},
   "outputs": [
    {
     "data": {
      "text/html": [
       "<table>\n",
       "<thead><tr><th scope=col>Brand</th><th scope=col>Price</th><th scope=col>Body</th><th scope=col>Mileage</th><th scope=col>EngineV</th><th scope=col>Engine.Type</th><th scope=col>Registration</th><th scope=col>Year</th></tr></thead>\n",
       "<tbody>\n",
       "\t<tr><td>BMW          </td><td> 4200        </td><td>sedan        </td><td>277          </td><td>2.0          </td><td>Petrol       </td><td>yes          </td><td>1991         </td></tr>\n",
       "\t<tr><td>Mercedes-Benz</td><td> 7900        </td><td>van          </td><td>427          </td><td>2.9          </td><td>Diesel       </td><td>yes          </td><td>1999         </td></tr>\n",
       "\t<tr><td>Mercedes-Benz</td><td>13300        </td><td>sedan        </td><td>358          </td><td>5.0          </td><td>Gas          </td><td>yes          </td><td>2003         </td></tr>\n",
       "\t<tr><td>Audi         </td><td>23000        </td><td>crossover    </td><td>240          </td><td>4.2          </td><td>Petrol       </td><td>yes          </td><td>2007         </td></tr>\n",
       "\t<tr><td>Toyota       </td><td>18300        </td><td>crossover    </td><td>120          </td><td>2.0          </td><td>Petrol       </td><td>yes          </td><td>2011         </td></tr>\n",
       "</tbody>\n",
       "</table>\n"
      ],
      "text/latex": [
       "\\begin{tabular}{r|llllllll}\n",
       " Brand & Price & Body & Mileage & EngineV & Engine.Type & Registration & Year\\\\\n",
       "\\hline\n",
       "\t BMW           &  4200         & sedan         & 277           & 2.0           & Petrol        & yes           & 1991         \\\\\n",
       "\t Mercedes-Benz &  7900         & van           & 427           & 2.9           & Diesel        & yes           & 1999         \\\\\n",
       "\t Mercedes-Benz & 13300         & sedan         & 358           & 5.0           & Gas           & yes           & 2003         \\\\\n",
       "\t Audi          & 23000         & crossover     & 240           & 4.2           & Petrol        & yes           & 2007         \\\\\n",
       "\t Toyota        & 18300         & crossover     & 120           & 2.0           & Petrol        & yes           & 2011         \\\\\n",
       "\\end{tabular}\n"
      ],
      "text/markdown": [
       "\n",
       "| Brand | Price | Body | Mileage | EngineV | Engine.Type | Registration | Year |\n",
       "|---|---|---|---|---|---|---|---|\n",
       "| BMW           |  4200         | sedan         | 277           | 2.0           | Petrol        | yes           | 1991          |\n",
       "| Mercedes-Benz |  7900         | van           | 427           | 2.9           | Diesel        | yes           | 1999          |\n",
       "| Mercedes-Benz | 13300         | sedan         | 358           | 5.0           | Gas           | yes           | 2003          |\n",
       "| Audi          | 23000         | crossover     | 240           | 4.2           | Petrol        | yes           | 2007          |\n",
       "| Toyota        | 18300         | crossover     | 120           | 2.0           | Petrol        | yes           | 2011          |\n",
       "\n"
      ],
      "text/plain": [
       "  Brand         Price Body      Mileage EngineV Engine.Type Registration Year\n",
       "1 BMW            4200 sedan     277     2.0     Petrol      yes          1991\n",
       "2 Mercedes-Benz  7900 van       427     2.9     Diesel      yes          1999\n",
       "3 Mercedes-Benz 13300 sedan     358     5.0     Gas         yes          2003\n",
       "4 Audi          23000 crossover 240     4.2     Petrol      yes          2007\n",
       "5 Toyota        18300 crossover 120     2.0     Petrol      yes          2011"
      ]
     },
     "metadata": {},
     "output_type": "display_data"
    }
   ],
   "source": [
    "# Droping the Model column\n",
    "\n",
    "# can also use the line of code below\n",
    "#dataset <- subset(dataset, select = c('Brand', 'Price', 'Body', 'Mileage', 'EngineV', 'Engine.Type', 'Registration', 'Year'))\n",
    "\n",
    "dataset = dataset[,!(names(dataset) %in% 'Model')]\n",
    "\n",
    "head(dataset,5)"
   ]
  },
  {
   "cell_type": "code",
   "execution_count": 5,
   "metadata": {},
   "outputs": [
    {
     "data": {
      "text/html": [
       "<table>\n",
       "<thead><tr><th></th><th scope=col>na_count</th></tr></thead>\n",
       "<tbody>\n",
       "\t<tr><th scope=row>Brand</th><td>  0</td></tr>\n",
       "\t<tr><th scope=row>Price</th><td>172</td></tr>\n",
       "\t<tr><th scope=row>Body</th><td>  0</td></tr>\n",
       "\t<tr><th scope=row>Mileage</th><td>  0</td></tr>\n",
       "\t<tr><th scope=row>EngineV</th><td>150</td></tr>\n",
       "\t<tr><th scope=row>Engine.Type</th><td>  0</td></tr>\n",
       "\t<tr><th scope=row>Registration</th><td>  0</td></tr>\n",
       "\t<tr><th scope=row>Year</th><td>  0</td></tr>\n",
       "</tbody>\n",
       "</table>\n"
      ],
      "text/latex": [
       "\\begin{tabular}{r|l}\n",
       "  & na\\_count\\\\\n",
       "\\hline\n",
       "\tBrand &   0\\\\\n",
       "\tPrice & 172\\\\\n",
       "\tBody &   0\\\\\n",
       "\tMileage &   0\\\\\n",
       "\tEngineV & 150\\\\\n",
       "\tEngine.Type &   0\\\\\n",
       "\tRegistration &   0\\\\\n",
       "\tYear &   0\\\\\n",
       "\\end{tabular}\n"
      ],
      "text/markdown": [
       "\n",
       "| <!--/--> | na_count |\n",
       "|---|---|\n",
       "| Brand |   0 |\n",
       "| Price | 172 |\n",
       "| Body |   0 |\n",
       "| Mileage |   0 |\n",
       "| EngineV | 150 |\n",
       "| Engine.Type |   0 |\n",
       "| Registration |   0 |\n",
       "| Year |   0 |\n",
       "\n"
      ],
      "text/plain": [
       "             na_count\n",
       "Brand          0     \n",
       "Price        172     \n",
       "Body           0     \n",
       "Mileage        0     \n",
       "EngineV      150     \n",
       "Engine.Type    0     \n",
       "Registration   0     \n",
       "Year           0     "
      ]
     },
     "metadata": {},
     "output_type": "display_data"
    }
   ],
   "source": [
    "# checking the number of missing values\n",
    "\n",
    "na_count <-sapply(dataset, function(y) sum(length(which(is.na(y)))))\n",
    "na_count <- data.frame(na_count)\n",
    "na_count"
   ]
  },
  {
   "cell_type": "code",
   "execution_count": 6,
   "metadata": {},
   "outputs": [
    {
     "data": {
      "text/plain": [
       "           Brand         Price               Body         Mileage     \n",
       " Audi         :420   Min.   :   600   crossover: 824   Min.   :  0.0  \n",
       " BMW          :640   1st Qu.:  6999   hatch    : 268   1st Qu.: 90.0  \n",
       " Mercedes-Benz:823   Median : 11500   other    : 394   Median :158.0  \n",
       " Mitsubishi   :307   Mean   : 19552   sedan    :1534   Mean   :163.6  \n",
       " Renault      :445   3rd Qu.: 21900   vagon    : 379   3rd Qu.:230.0  \n",
       " Toyota       :510   Max.   :300000   van      : 626   Max.   :980.0  \n",
       " Volkswagen   :880                                                    \n",
       "    EngineV       Engine.Type   Registration      Year     \n",
       " Min.   : 0.600   Diesel:1861   no : 371     Min.   :1969  \n",
       " 1st Qu.: 1.800   Gas   : 590   yes:3654     1st Qu.:2003  \n",
       " Median : 2.200   Other : 106                Median :2007  \n",
       " Mean   : 2.765   Petrol:1468                Mean   :2006  \n",
       " 3rd Qu.: 3.000                              3rd Qu.:2012  \n",
       " Max.   :99.990                              Max.   :2016  \n",
       "                                                           "
      ]
     },
     "metadata": {},
     "output_type": "display_data"
    }
   ],
   "source": [
    "# drop all the null value\n",
    "\n",
    "dataset <- na.omit(dataset)\n",
    "summary(dataset)"
   ]
  },
  {
   "cell_type": "code",
   "execution_count": 7,
   "metadata": {},
   "outputs": [
    {
     "data": {
      "image/png": "[encoded data removed]",
      "text/plain": [
       "Plot with title \"density.default(x = dataset$Price)\""
      ]
     },
     "metadata": {},
     "output_type": "display_data"
    }
   ],
   "source": [
    "# ploting to check for outliers in price columns\n",
    "\n",
    "price <- density(dataset$Price)\n",
    "plot(price)"
   ]
  },
  {
   "cell_type": "code",
   "execution_count": 8,
   "metadata": {},
   "outputs": [],
   "source": [
    "# removing outlier from the price columns\n",
    "\n",
    "\n",
    "dataset <- subset(dataset, dataset$Price < quantile(dataset$Price, 0.99))"
   ]
  },
  {
   "cell_type": "code",
   "execution_count": 9,
   "metadata": {},
   "outputs": [
    {
     "data": {
      "image/png": "[encoded data removed]",
      "text/plain": [
       "Plot with title \"density.default(x = dataset$Price)\""
      ]
     },
     "metadata": {},
     "output_type": "display_data"
    }
   ],
   "source": [
    "# ploting for price column one more to see outlier removed\n",
    "price <- density(dataset$Price)\n",
    "plot(price)"
   ]
  },
  {
   "cell_type": "code",
   "execution_count": 10,
   "metadata": {
    "scrolled": true
   },
   "outputs": [
    {
     "data": {
      "image/png": "[encoded data removed]",
      "text/plain": [
       "Plot with title \"density.default(x = dataset$Mileage)\""
      ]
     },
     "metadata": {},
     "output_type": "display_data"
    }
   ],
   "source": [
    "# ploting to check for outlier in mileage column\n",
    "\n",
    "mileage <- density(dataset$Mileage)\n",
    "plot(mileage)"
   ]
  },
  {
   "cell_type": "code",
   "execution_count": 14,
   "metadata": {},
   "outputs": [
    {
     "data": {
      "image/png": "[encoded data removed]",
      "text/plain": [
       "Plot with title \"density.default(x = dataset$Mileage)\""
      ]
     },
     "metadata": {},
     "output_type": "display_data"
    }
   ],
   "source": [
    "# to remove outlier in the mileage column \n",
    "\n",
    "dataset <- subset(dataset, dataset$Mileage < quantile(dataset$Mileage, 0.99))\n",
    "\n",
    "mileage <- density(dataset$Mileage)\n",
    "plot(mileage)"
   ]
  },
  {
   "cell_type": "code",
   "execution_count": 12,
   "metadata": {
    "scrolled": true
   },
   "outputs": [
    {
     "data": {
      "image/png": "[encoded data removed]",
      "text/plain": [
       "Plot with title \"density.default(x = dataset$EngineV)\""
      ]
     },
     "metadata": {},
     "output_type": "display_data"
    }
   ],
   "source": [
    "engineV <- density(dataset$EngineV)\n",
    "plot(engineV)"
   ]
  },
  {
   "cell_type": "code",
   "execution_count": null,
   "metadata": {},
   "outputs": [],
   "source": [
    "# "
   ]
  },
  {
   "cell_type": "code",
   "execution_count": 13,
   "metadata": {},
   "outputs": [
    {
     "data": {
      "image/png": "[encoded data removed]",
      "text/plain": [
       "Plot with title \"density.default(x = dataset$Year)\""
      ]
     },
     "metadata": {},
     "output_type": "display_data"
    }
   ],
   "source": [
    "year <- density(dataset$Year)\n",
    "plot(year)"
   ]
  },
  {
   "cell_type": "code",
   "execution_count": null,
   "metadata": {},
   "outputs": [],
   "source": []
  },
  {
   "cell_type": "code",
   "execution_count": null,
   "metadata": {},
   "outputs": [],
   "source": []
  }
 ],
 "metadata": {
  "kernelspec": {
   "display_name": "R",
   "language": "R",
   "name": "ir"
  },
  "language_info": {
   "codemirror_mode": "r",
   "file_extension": ".r",
   "mimetype": "text/x-r-source",
   "name": "R",
   "pygments_lexer": "r",
   "version": "3.6.1"
  }
 },
 "nbformat": 4,
 "nbformat_minor": 4
}
